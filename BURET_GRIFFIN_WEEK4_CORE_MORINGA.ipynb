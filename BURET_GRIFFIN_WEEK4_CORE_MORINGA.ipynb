{
  "nbformat": 4,
  "nbformat_minor": 0,
  "metadata": {
    "colab": {
      "name": "BURET_GRIFFIN_WEEK4_CORE_MORINGA.ipynb",
      "provenance": [],
      "authorship_tag": "ABX9TyO58mx6GqSral+qUd4FcKuu",
      "include_colab_link": true
    },
    "kernelspec": {
      "name": "python3",
      "display_name": "Python 3"
    },
    "language_info": {
      "name": "python"
    }
  },
  "cells": [
    {
      "cell_type": "markdown",
      "metadata": {
        "id": "view-in-github",
        "colab_type": "text"
      },
      "source": [
        "<a href=\"https://colab.research.google.com/github/BuretGriffin/COREWEEK4-MORINGA/blob/main/BURET_GRIFFIN_WEEK4_CORE_MORINGA.ipynb\" target=\"_parent\"><img src=\"https://colab.research.google.com/assets/colab-badge.svg\" alt=\"Open In Colab\"/></a>"
      ]
    },
    {
      "cell_type": "code",
      "execution_count": null,
      "metadata": {
        "id": "DIlo0X0YvBxo"
      },
      "outputs": [],
      "source": [
        ""
      ]
    }
  ]
}